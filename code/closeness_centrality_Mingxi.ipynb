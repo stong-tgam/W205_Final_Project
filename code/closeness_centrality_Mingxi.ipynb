{
 "cells": [
  {
   "cell_type": "markdown",
   "id": "d2e5c702-5cdc-478e-8cb8-81d00a67ef99",
   "metadata": {
    "tags": []
   },
   "source": [
    "# Included Modules and Packages"
   ]
  },
  {
   "cell_type": "code",
   "execution_count": 41,
   "id": "45f14dfd-fd9d-4dd6-96c2-6df1441fd000",
   "metadata": {},
   "outputs": [],
   "source": [
    "import neo4j\n",
    "\n",
    "import csv\n",
    "\n",
    "import math\n",
    "import numpy as np\n",
    "import pandas as pd\n",
    "\n",
    "import psycopg2\n",
    "\n",
    "import gmaps\n",
    "import gmaps.geojson_geometries\n",
    "\n",
    "from geographiclib.geodesic import Geodesic"
   ]
  },
  {
   "cell_type": "markdown",
   "id": "da76dd83-e082-4c14-89bb-c231321ddb9d",
   "metadata": {
    "tags": []
   },
   "source": [
    "# Supporting code"
   ]
  },
  {
   "cell_type": "code",
   "execution_count": 42,
   "id": "375079ca-a5bc-4497-9e42-7c9125906a4b",
   "metadata": {},
   "outputs": [],
   "source": [
    "driver = neo4j.GraphDatabase.driver(uri=\"neo4j://neo4j:7687\", auth=(\"neo4j\",\"w205\"))"
   ]
  },
  {
   "cell_type": "code",
   "execution_count": 43,
   "id": "b073f51e-f2a1-4e34-bb2f-c04c906c96aa",
   "metadata": {},
   "outputs": [],
   "source": [
    "session = driver.session(database=\"neo4j\")"
   ]
  },
  {
   "cell_type": "code",
   "execution_count": 44,
   "id": "001eb7e0-06ba-4623-8eab-549d7a5cce9a",
   "metadata": {},
   "outputs": [],
   "source": [
    "def my_neo4j_wipe_out_database():\n",
    "    \"wipe out database by deleting all nodes and relationships\"\n",
    "    \n",
    "    query = \"match (node)-[relationship]->() delete node, relationship\"\n",
    "    session.run(query)\n",
    "    \n",
    "    query = \"match (node) delete node\"\n",
    "    session.run(query)"
   ]
  },
  {
   "cell_type": "code",
   "execution_count": 45,
   "id": "09e0e047-5f4e-42f8-91dd-1a625bfc7e0d",
   "metadata": {},
   "outputs": [],
   "source": [
    "def my_neo4j_run_query_pandas(query, **kwargs):\n",
    "    \"run a query and return the results in a pandas dataframe\"\n",
    "    \n",
    "    result = session.run(query, **kwargs)\n",
    "    \n",
    "    df = pd.DataFrame([r.values() for r in result], columns=result.keys())\n",
    "    \n",
    "    return df"
   ]
  },
  {
   "cell_type": "code",
   "execution_count": 46,
   "id": "20c44e43-98c3-4842-881e-64be7a73d0d6",
   "metadata": {},
   "outputs": [],
   "source": [
    "def my_neo4j_number_nodes_relationships():\n",
    "    \"print the number of nodes and relationships\"\n",
    "   \n",
    "    \n",
    "    query = \"\"\"\n",
    "        match (n) \n",
    "        return n.name as node_name, labels(n) as labels\n",
    "        order by n.name\n",
    "    \"\"\"\n",
    "    \n",
    "    df = my_neo4j_run_query_pandas(query)\n",
    "    \n",
    "    number_nodes = df.shape[0]\n",
    "    \n",
    "    \n",
    "    query = \"\"\"\n",
    "        match (n1)-[r]->(n2) \n",
    "        return n1.name as node_name_1, labels(n1) as node_1_labels, \n",
    "            type(r) as relationship_type, n2.name as node_name_2, labels(n2) as node_2_labels\n",
    "        order by node_name_1, node_name_2\n",
    "    \"\"\"\n",
    "    \n",
    "    df = my_neo4j_run_query_pandas(query)\n",
    "    \n",
    "    number_relationships = df.shape[0]\n",
    "    \n",
    "    print(\"-------------------------\")\n",
    "    print(\"  Nodes:\", number_nodes)\n",
    "    print(\"  Relationships:\", number_relationships)\n",
    "    print(\"-------------------------\")\n"
   ]
  },
  {
   "cell_type": "code",
   "execution_count": 47,
   "id": "e5726655-9c92-405b-a468-3d5ab10668be",
   "metadata": {},
   "outputs": [],
   "source": [
    "def my_neo4j_create_node(station_name):\n",
    "    \"create a node with label Station\"\n",
    "    \n",
    "    query = \"\"\"\n",
    "    \n",
    "    CREATE (:Station {name: $station_name})\n",
    "    \n",
    "    \"\"\"\n",
    "    \n",
    "    session.run(query, station_name=station_name)\n",
    "    "
   ]
  },
  {
   "cell_type": "code",
   "execution_count": 48,
   "id": "a82f897b-466e-464a-8afa-80b4115f6070",
   "metadata": {},
   "outputs": [],
   "source": [
    "def my_neo4j_create_relationship_one_way(from_station, to_station, weight):\n",
    "    \"create a relationship one way between two stations with a weight\"\n",
    "    \n",
    "    query = \"\"\"\n",
    "    \n",
    "    MATCH (from:Station), \n",
    "          (to:Station)\n",
    "    WHERE from.name = $from_station and to.name = $to_station\n",
    "    CREATE (from)-[:LINK {weight: $weight}]->(to)\n",
    "    \n",
    "    \"\"\"\n",
    "    \n",
    "    session.run(query, from_station=from_station, to_station=to_station, weight=weight)\n",
    "    "
   ]
  },
  {
   "cell_type": "code",
   "execution_count": 49,
   "id": "a27a45ee-9db2-46e1-94a6-78cdda212c18",
   "metadata": {},
   "outputs": [],
   "source": [
    "def my_neo4j_create_relationship_two_way(from_station, to_station, weight):\n",
    "    \"create relationships two way between two stations with a weight\"\n",
    "    \n",
    "    query = \"\"\"\n",
    "    \n",
    "    MATCH (from:Station), \n",
    "          (to:Station)\n",
    "    WHERE from.name = $from_station and to.name = $to_station\n",
    "    CREATE (from)-[:LINK {weight: $weight}]->(to),\n",
    "           (to)-[:LINK {weight: $weight}]->(from)\n",
    "    \n",
    "    \"\"\"\n",
    "    \n",
    "    session.run(query, from_station=from_station, to_station=to_station, weight=weight)\n",
    "    "
   ]
  },
  {
   "cell_type": "code",
   "execution_count": 50,
   "id": "79f18d61-ae33-435d-b51e-2b5a78b78270",
   "metadata": {},
   "outputs": [],
   "source": [
    "connection = psycopg2.connect(\n",
    "    user = \"postgres\",\n",
    "    password = \"ucb\",\n",
    "    host = \"postgres\",\n",
    "    port = \"5432\",\n",
    "    database = \"postgres\"\n",
    ")"
   ]
  },
  {
   "cell_type": "code",
   "execution_count": 51,
   "id": "4f6d63df-d748-4cd2-af9f-5ca12502d846",
   "metadata": {},
   "outputs": [],
   "source": [
    "cursor = connection.cursor()"
   ]
  },
  {
   "cell_type": "code",
   "execution_count": 52,
   "id": "8bcae177-ea17-4333-a44d-6e3df5b491af",
   "metadata": {},
   "outputs": [],
   "source": [
    "my_api_key = \"************\"\n",
    "\n",
    "gmaps.configure(api_key=my_api_key)"
   ]
  },
  {
   "cell_type": "markdown",
   "id": "44fa3e56-23dd-41af-b5c1-c36f768a23a0",
   "metadata": {},
   "source": [
    "# Wipe out the Neo4j database\n",
    "\n",
    "Call the function my_neo4j_wipe_out_database() to wipe out the Neo4j database"
   ]
  },
  {
   "cell_type": "code",
   "execution_count": 53,
   "id": "8b73c8f0-402e-4c8d-b6e9-faa7baa93410",
   "metadata": {},
   "outputs": [],
   "source": [
    "my_neo4j_wipe_out_database()"
   ]
  },
  {
   "cell_type": "code",
   "execution_count": 54,
   "id": "dda3cf1b-b63e-4182-8037-ee0f85db6e9a",
   "metadata": {},
   "outputs": [
    {
     "name": "stdout",
     "output_type": "stream",
     "text": [
      "-------------------------\n",
      "  Nodes: 0\n",
      "  Relationships: 0\n",
      "-------------------------\n"
     ]
    }
   ],
   "source": [
    "my_neo4j_number_nodes_relationships()"
   ]
  },
  {
   "cell_type": "markdown",
   "id": "d606e8fa-5c30-4853-8de1-48cc43fe4c4c",
   "metadata": {},
   "source": [
    "# Query the list of stations and create station nodes. For our case the relationships are undirectional, so we don't differentiate \"arrival\" and \"departure\"\n",
    "\n",
    "\n"
   ]
  },
  {
   "cell_type": "code",
   "execution_count": 55,
   "id": "114d12cf-5c50-4dd6-be56-23996734fa44",
   "metadata": {},
   "outputs": [],
   "source": [
    "connection.rollback()\n",
    "\n",
    "query = \"\"\"\n",
    "\n",
    "select station,line from lines\n",
    "order by station,line\n",
    "\n",
    "\"\"\"\n",
    "\n",
    "cursor.execute(query)\n",
    "\n",
    "connection.rollback()\n",
    "\n",
    "rows = cursor.fetchall()\n",
    "\n",
    "for row in rows:\n",
    "    \n",
    "    station, line= row\n",
    "    \n",
    "    my_neo4j_create_node(line +' '+ station)"
   ]
  },
  {
   "cell_type": "code",
   "execution_count": 56,
   "id": "48050243-f4c0-47f4-b2c2-3b5fb848bbcc",
   "metadata": {},
   "outputs": [
    {
     "name": "stdout",
     "output_type": "stream",
     "text": [
      "-------------------------\n",
      "  Nodes: 114\n",
      "  Relationships: 0\n",
      "-------------------------\n"
     ]
    }
   ],
   "source": [
    "my_neo4j_number_nodes_relationships()"
   ]
  },
  {
   "cell_type": "markdown",
   "id": "10a5de49-304b-4452-ae01-c0f4b886e9af",
   "metadata": {},
   "source": [
    "# Query the list of all possible line transfers and the transfer times, create a relationship for each transfer with the transfer time as the weight\n",
    "\n",
    "\n"
   ]
  },
  {
   "cell_type": "code",
   "execution_count": 57,
   "id": "73d9991c-4016-4e44-ba6a-6a5e39355be3",
   "metadata": {},
   "outputs": [
    {
     "data": {
      "text/html": [
       "<div>\n",
       "<style scoped>\n",
       "    .dataframe tbody tr th:only-of-type {\n",
       "        vertical-align: middle;\n",
       "    }\n",
       "\n",
       "    .dataframe tbody tr th {\n",
       "        vertical-align: top;\n",
       "    }\n",
       "\n",
       "    .dataframe thead th {\n",
       "        text-align: right;\n",
       "    }\n",
       "</style>\n",
       "<table border=\"1\" class=\"dataframe\">\n",
       "  <thead>\n",
       "    <tr style=\"text-align: right;\">\n",
       "      <th></th>\n",
       "      <th>station</th>\n",
       "      <th>from_line</th>\n",
       "      <th>to_line</th>\n",
       "      <th>transfer_time</th>\n",
       "    </tr>\n",
       "  </thead>\n",
       "  <tbody>\n",
       "    <tr>\n",
       "      <th>203</th>\n",
       "      <td>West Oakland</td>\n",
       "      <td>red</td>\n",
       "      <td>green</td>\n",
       "      <td>283.0</td>\n",
       "    </tr>\n",
       "    <tr>\n",
       "      <th>204</th>\n",
       "      <td>West Oakland</td>\n",
       "      <td>red</td>\n",
       "      <td>yellow</td>\n",
       "      <td>283.0</td>\n",
       "    </tr>\n",
       "    <tr>\n",
       "      <th>205</th>\n",
       "      <td>West Oakland</td>\n",
       "      <td>yellow</td>\n",
       "      <td>blue</td>\n",
       "      <td>283.0</td>\n",
       "    </tr>\n",
       "    <tr>\n",
       "      <th>206</th>\n",
       "      <td>West Oakland</td>\n",
       "      <td>yellow</td>\n",
       "      <td>green</td>\n",
       "      <td>283.0</td>\n",
       "    </tr>\n",
       "    <tr>\n",
       "      <th>207</th>\n",
       "      <td>West Oakland</td>\n",
       "      <td>yellow</td>\n",
       "      <td>red</td>\n",
       "      <td>283.0</td>\n",
       "    </tr>\n",
       "  </tbody>\n",
       "</table>\n",
       "</div>"
      ],
      "text/plain": [
       "          station from_line to_line  transfer_time\n",
       "203  West Oakland       red   green          283.0\n",
       "204  West Oakland       red  yellow          283.0\n",
       "205  West Oakland    yellow    blue          283.0\n",
       "206  West Oakland    yellow   green          283.0\n",
       "207  West Oakland    yellow     red          283.0"
      ]
     },
     "execution_count": 57,
     "metadata": {},
     "output_type": "execute_result"
    }
   ],
   "source": [
    "connection.rollback()\n",
    "\n",
    "query = \"\"\"\n",
    "\n",
    "select \n",
    "    l_from.station,\n",
    "    l_from.line as from_line,\n",
    "    l_to.line as to_line,\n",
    "    stations.transfer_time\n",
    "from \n",
    "lines as l_from \n",
    "    left join lines as l_to\n",
    "        on l_from.station=l_to.station\n",
    "    left join stations\n",
    "        on stations.station=l_from.station\n",
    "where l_from.line <> l_to.line\n",
    "order by station, from_line, to_line\n",
    "\n",
    "\"\"\"\n",
    "\n",
    "df=pd.read_sql(query,connection)\n",
    "\n",
    "df.tail()"
   ]
  },
  {
   "cell_type": "code",
   "execution_count": 58,
   "id": "2102ef0a-b114-4dfd-957c-a8ef2848885c",
   "metadata": {},
   "outputs": [],
   "source": [
    "for i in df.index:\n",
    "\n",
    "    station, from_line,to_line,transfer_time= df.loc[i,:]\n",
    "    \n",
    "    my_neo4j_create_relationship_one_way(from_line+' '+station, to_line+' '+station,int(transfer_time))"
   ]
  },
  {
   "cell_type": "code",
   "execution_count": 59,
   "id": "555b33f2-7410-4193-a129-18f85d42fcf0",
   "metadata": {},
   "outputs": [
    {
     "name": "stdout",
     "output_type": "stream",
     "text": [
      "-------------------------\n",
      "  Nodes: 114\n",
      "  Relationships: 208\n",
      "-------------------------\n"
     ]
    }
   ],
   "source": [
    "my_neo4j_number_nodes_relationships()"
   ]
  },
  {
   "cell_type": "markdown",
   "id": "2934263d-4fe2-4328-a0a1-e923ab2111ce",
   "metadata": {},
   "source": [
    "# Query the list of all segments between each station and its adjoining stations, create a relationship for each segment"
   ]
  },
  {
   "cell_type": "code",
   "execution_count": 60,
   "id": "c54323af-47cd-418c-86b8-9b71443f12bc",
   "metadata": {},
   "outputs": [
    {
     "data": {
      "text/html": [
       "<div>\n",
       "<style scoped>\n",
       "    .dataframe tbody tr th:only-of-type {\n",
       "        vertical-align: middle;\n",
       "    }\n",
       "\n",
       "    .dataframe tbody tr th {\n",
       "        vertical-align: top;\n",
       "    }\n",
       "\n",
       "    .dataframe thead th {\n",
       "        text-align: right;\n",
       "    }\n",
       "</style>\n",
       "<table border=\"1\" class=\"dataframe\">\n",
       "  <thead>\n",
       "    <tr style=\"text-align: right;\">\n",
       "      <th></th>\n",
       "      <th>line</th>\n",
       "      <th>from_station</th>\n",
       "      <th>to_station</th>\n",
       "      <th>travel_time</th>\n",
       "    </tr>\n",
       "  </thead>\n",
       "  <tbody>\n",
       "    <tr>\n",
       "      <th>103</th>\n",
       "      <td>yellow</td>\n",
       "      <td>Rockridge</td>\n",
       "      <td>MacArthur</td>\n",
       "      <td>240.0</td>\n",
       "    </tr>\n",
       "    <tr>\n",
       "      <th>104</th>\n",
       "      <td>yellow</td>\n",
       "      <td>San Bruno</td>\n",
       "      <td>SFO</td>\n",
       "      <td>240.0</td>\n",
       "    </tr>\n",
       "    <tr>\n",
       "      <th>105</th>\n",
       "      <td>yellow</td>\n",
       "      <td>South San Francisco</td>\n",
       "      <td>San Bruno</td>\n",
       "      <td>240.0</td>\n",
       "    </tr>\n",
       "    <tr>\n",
       "      <th>106</th>\n",
       "      <td>yellow</td>\n",
       "      <td>Walnut Creek</td>\n",
       "      <td>Lafayette</td>\n",
       "      <td>300.0</td>\n",
       "    </tr>\n",
       "    <tr>\n",
       "      <th>107</th>\n",
       "      <td>yellow</td>\n",
       "      <td>West Oakland</td>\n",
       "      <td>Embarcadero</td>\n",
       "      <td>420.0</td>\n",
       "    </tr>\n",
       "  </tbody>\n",
       "</table>\n",
       "</div>"
      ],
      "text/plain": [
       "       line         from_station   to_station  travel_time\n",
       "103  yellow            Rockridge    MacArthur        240.0\n",
       "104  yellow            San Bruno          SFO        240.0\n",
       "105  yellow  South San Francisco    San Bruno        240.0\n",
       "106  yellow         Walnut Creek    Lafayette        300.0\n",
       "107  yellow         West Oakland  Embarcadero        420.0"
      ]
     },
     "execution_count": 60,
     "metadata": {},
     "output_type": "execute_result"
    }
   ],
   "source": [
    "connection.rollback()\n",
    "\n",
    "query = \"\"\"\n",
    "\n",
    "select \n",
    "    l_from.line,\n",
    "    l_from.station as from_station,\n",
    "    l_to.station as to_station,\n",
    "    travel_times.travel_time\n",
    "from \n",
    "lines as l_from \n",
    "    inner join lines as l_to\n",
    "        on (l_from.line=l_to.line) and (l_from.sequence=l_to.sequence-1)\n",
    "    left join travel_times\n",
    "        on ((travel_times.station_1=l_from.station) and (travel_times.station_2=l_to.station)) \n",
    "            or ((travel_times.station_2=l_from.station) and (travel_times.station_1=l_to.station))\n",
    "order by line, from_station, to_station\n",
    "\n",
    "\"\"\"\n",
    "\n",
    "df=pd.read_sql(query,connection)\n",
    "\n",
    "df.tail()"
   ]
  },
  {
   "cell_type": "code",
   "execution_count": 61,
   "id": "0b85a204-4e55-4d61-a19c-d0abb61dd3f4",
   "metadata": {},
   "outputs": [],
   "source": [
    "for i in df.index:\n",
    "\n",
    "    line, from_station,to_station,travel_time= df.loc[i,:]\n",
    "    \n",
    "    my_neo4j_create_relationship_two_way(line+' '+from_station, line+' '+to_station,int(travel_time))"
   ]
  },
  {
   "cell_type": "code",
   "execution_count": 62,
   "id": "8771a73e-3bf0-4bab-91d8-7abb2dd1154b",
   "metadata": {},
   "outputs": [
    {
     "name": "stdout",
     "output_type": "stream",
     "text": [
      "-------------------------\n",
      "  Nodes: 114\n",
      "  Relationships: 424\n",
      "-------------------------\n"
     ]
    }
   ],
   "source": [
    "my_neo4j_number_nodes_relationships()"
   ]
  },
  {
   "cell_type": "markdown",
   "id": "bbbbdb6a-4a13-4bda-93bb-0569682a4ff9",
   "metadata": {},
   "source": [
    "# Build the graph"
   ]
  },
  {
   "cell_type": "code",
   "execution_count": 63,
   "id": "70336615-234d-4734-88ea-1511ff95c29f",
   "metadata": {},
   "outputs": [
    {
     "data": {
      "text/plain": [
       "<neo4j.work.result.Result at 0x7f9b54d55b80>"
      ]
     },
     "execution_count": 63,
     "metadata": {},
     "output_type": "execute_result"
    }
   ],
   "source": [
    "query = \"CALL gds.graph.drop('ds_graph', false)\"\n",
    "session.run(query)\n",
    "\n",
    "query = \"CALL gds.graph.project('ds_graph', 'Station', 'LINK', {relationshipProperties: 'weight'})\"\n",
    "session.run(query)"
   ]
  },
  {
   "cell_type": "markdown",
   "id": "c5355bf7-66bf-4ec1-ab89-4ba2c6b2f181",
   "metadata": {
    "tags": []
   },
   "source": [
    "# Run Closeness Centrality Algo"
   ]
  },
  {
   "cell_type": "code",
   "execution_count": 64,
   "id": "caf2f407-da76-41b7-ada9-80141988ed6d",
   "metadata": {},
   "outputs": [
    {
     "data": {
      "text/html": [
       "<div>\n",
       "<style scoped>\n",
       "    .dataframe tbody tr th:only-of-type {\n",
       "        vertical-align: middle;\n",
       "    }\n",
       "\n",
       "    .dataframe tbody tr th {\n",
       "        vertical-align: top;\n",
       "    }\n",
       "\n",
       "    .dataframe thead th {\n",
       "        text-align: right;\n",
       "    }\n",
       "</style>\n",
       "<table border=\"1\" class=\"dataframe\">\n",
       "  <thead>\n",
       "    <tr style=\"text-align: right;\">\n",
       "      <th></th>\n",
       "      <th>name</th>\n",
       "      <th>closeness</th>\n",
       "    </tr>\n",
       "  </thead>\n",
       "  <tbody>\n",
       "    <tr>\n",
       "      <th>0</th>\n",
       "      <td>yellow West Oakland</td>\n",
       "      <td>0.147520</td>\n",
       "    </tr>\n",
       "    <tr>\n",
       "      <th>1</th>\n",
       "      <td>green West Oakland</td>\n",
       "      <td>0.147327</td>\n",
       "    </tr>\n",
       "    <tr>\n",
       "      <th>2</th>\n",
       "      <td>red West Oakland</td>\n",
       "      <td>0.146753</td>\n",
       "    </tr>\n",
       "    <tr>\n",
       "      <th>3</th>\n",
       "      <td>blue West Oakland</td>\n",
       "      <td>0.146563</td>\n",
       "    </tr>\n",
       "    <tr>\n",
       "      <th>4</th>\n",
       "      <td>yellow Embarcadero</td>\n",
       "      <td>0.143038</td>\n",
       "    </tr>\n",
       "  </tbody>\n",
       "</table>\n",
       "</div>"
      ],
      "text/plain": [
       "                  name  closeness\n",
       "0  yellow West Oakland   0.147520\n",
       "1   green West Oakland   0.147327\n",
       "2     red West Oakland   0.146753\n",
       "3    blue West Oakland   0.146563\n",
       "4   yellow Embarcadero   0.143038"
      ]
     },
     "execution_count": 64,
     "metadata": {},
     "output_type": "execute_result"
    }
   ],
   "source": [
    "# Closeness Centrality: \n",
    "query = \"\"\"\n",
    "\n",
    "CALL gds.beta.closeness.stream('ds_graph')\n",
    "YIELD nodeId, score\n",
    "RETURN gds.util.asNode(nodeId).name AS name, score as closeness\n",
    "ORDER BY score DESC\n",
    "\n",
    "\"\"\"\n",
    "\n",
    "closeness=my_neo4j_run_query_pandas(query)\n",
    "\n",
    "closeness.head()"
   ]
  },
  {
   "cell_type": "markdown",
   "id": "73b6346a-22e2-4853-ac6d-92bd4c65b9bf",
   "metadata": {
    "tags": []
   },
   "source": [
    "# Query the stations' coordinates"
   ]
  },
  {
   "cell_type": "code",
   "execution_count": 65,
   "id": "f38040ff-4345-4e87-b2b6-7ef3ef34f4ce",
   "metadata": {},
   "outputs": [
    {
     "data": {
      "text/html": [
       "<div>\n",
       "<style scoped>\n",
       "    .dataframe tbody tr th:only-of-type {\n",
       "        vertical-align: middle;\n",
       "    }\n",
       "\n",
       "    .dataframe tbody tr th {\n",
       "        vertical-align: top;\n",
       "    }\n",
       "\n",
       "    .dataframe thead th {\n",
       "        text-align: right;\n",
       "    }\n",
       "</style>\n",
       "<table border=\"1\" class=\"dataframe\">\n",
       "  <thead>\n",
       "    <tr style=\"text-align: right;\">\n",
       "      <th></th>\n",
       "      <th>station</th>\n",
       "      <th>latitude</th>\n",
       "      <th>longitude</th>\n",
       "      <th>transfer_time</th>\n",
       "    </tr>\n",
       "  </thead>\n",
       "  <tbody>\n",
       "    <tr>\n",
       "      <th>0</th>\n",
       "      <td>12th Street</td>\n",
       "      <td>37.803608</td>\n",
       "      <td>-122.272006</td>\n",
       "      <td>282.0</td>\n",
       "    </tr>\n",
       "    <tr>\n",
       "      <th>1</th>\n",
       "      <td>16th Street Mission</td>\n",
       "      <td>37.764847</td>\n",
       "      <td>-122.420042</td>\n",
       "      <td>287.0</td>\n",
       "    </tr>\n",
       "    <tr>\n",
       "      <th>2</th>\n",
       "      <td>19th Street</td>\n",
       "      <td>37.807869</td>\n",
       "      <td>-122.268980</td>\n",
       "      <td>67.0</td>\n",
       "    </tr>\n",
       "    <tr>\n",
       "      <th>3</th>\n",
       "      <td>24th Street Mission</td>\n",
       "      <td>37.752000</td>\n",
       "      <td>-122.418700</td>\n",
       "      <td>277.0</td>\n",
       "    </tr>\n",
       "    <tr>\n",
       "      <th>4</th>\n",
       "      <td>Antioch</td>\n",
       "      <td>37.996281</td>\n",
       "      <td>-121.783404</td>\n",
       "      <td>0.0</td>\n",
       "    </tr>\n",
       "  </tbody>\n",
       "</table>\n",
       "</div>"
      ],
      "text/plain": [
       "               station   latitude   longitude  transfer_time\n",
       "0          12th Street  37.803608 -122.272006          282.0\n",
       "1  16th Street Mission  37.764847 -122.420042          287.0\n",
       "2          19th Street  37.807869 -122.268980           67.0\n",
       "3  24th Street Mission  37.752000 -122.418700          277.0\n",
       "4              Antioch  37.996281 -121.783404            0.0"
      ]
     },
     "execution_count": 65,
     "metadata": {},
     "output_type": "execute_result"
    }
   ],
   "source": [
    "connection.rollback()\n",
    "\n",
    "query = \"\"\"\n",
    "\n",
    "select * from stations\n",
    "\n",
    "\"\"\"\n",
    "\n",
    "station_coord=pd.read_sql(query,connection)\n",
    "\n",
    "station_coord.head()"
   ]
  },
  {
   "cell_type": "markdown",
   "id": "c49eba1f-0ae4-4fac-bb09-bd0ac71fa579",
   "metadata": {
    "tags": []
   },
   "source": [
    "# Join the closeness and locations of stations"
   ]
  },
  {
   "cell_type": "code",
   "execution_count": 66,
   "id": "70bb2956-7a3e-43ea-a437-7b87aa0f7815",
   "metadata": {},
   "outputs": [
    {
     "data": {
      "text/html": [
       "<div>\n",
       "<style scoped>\n",
       "    .dataframe tbody tr th:only-of-type {\n",
       "        vertical-align: middle;\n",
       "    }\n",
       "\n",
       "    .dataframe tbody tr th {\n",
       "        vertical-align: top;\n",
       "    }\n",
       "\n",
       "    .dataframe thead th {\n",
       "        text-align: right;\n",
       "    }\n",
       "</style>\n",
       "<table border=\"1\" class=\"dataframe\">\n",
       "  <thead>\n",
       "    <tr style=\"text-align: right;\">\n",
       "      <th></th>\n",
       "      <th>name</th>\n",
       "      <th>closeness</th>\n",
       "      <th>station</th>\n",
       "      <th>latitude</th>\n",
       "      <th>longitude</th>\n",
       "      <th>transfer_time</th>\n",
       "    </tr>\n",
       "  </thead>\n",
       "  <tbody>\n",
       "    <tr>\n",
       "      <th>0</th>\n",
       "      <td>yellow West Oakland</td>\n",
       "      <td>0.147520</td>\n",
       "      <td>West Oakland</td>\n",
       "      <td>37.804900</td>\n",
       "      <td>-122.295100</td>\n",
       "      <td>283.0</td>\n",
       "    </tr>\n",
       "    <tr>\n",
       "      <th>1</th>\n",
       "      <td>green West Oakland</td>\n",
       "      <td>0.147327</td>\n",
       "      <td>West Oakland</td>\n",
       "      <td>37.804900</td>\n",
       "      <td>-122.295100</td>\n",
       "      <td>283.0</td>\n",
       "    </tr>\n",
       "    <tr>\n",
       "      <th>2</th>\n",
       "      <td>red West Oakland</td>\n",
       "      <td>0.146753</td>\n",
       "      <td>West Oakland</td>\n",
       "      <td>37.804900</td>\n",
       "      <td>-122.295100</td>\n",
       "      <td>283.0</td>\n",
       "    </tr>\n",
       "    <tr>\n",
       "      <th>3</th>\n",
       "      <td>blue West Oakland</td>\n",
       "      <td>0.146563</td>\n",
       "      <td>West Oakland</td>\n",
       "      <td>37.804900</td>\n",
       "      <td>-122.295100</td>\n",
       "      <td>283.0</td>\n",
       "    </tr>\n",
       "    <tr>\n",
       "      <th>4</th>\n",
       "      <td>yellow Embarcadero</td>\n",
       "      <td>0.143038</td>\n",
       "      <td>Embarcadero</td>\n",
       "      <td>37.793056</td>\n",
       "      <td>-122.397222</td>\n",
       "      <td>304.0</td>\n",
       "    </tr>\n",
       "  </tbody>\n",
       "</table>\n",
       "</div>"
      ],
      "text/plain": [
       "                  name  closeness       station   latitude   longitude  \\\n",
       "0  yellow West Oakland   0.147520  West Oakland  37.804900 -122.295100   \n",
       "1   green West Oakland   0.147327  West Oakland  37.804900 -122.295100   \n",
       "2     red West Oakland   0.146753  West Oakland  37.804900 -122.295100   \n",
       "3    blue West Oakland   0.146563  West Oakland  37.804900 -122.295100   \n",
       "4   yellow Embarcadero   0.143038   Embarcadero  37.793056 -122.397222   \n",
       "\n",
       "   transfer_time  \n",
       "0          283.0  \n",
       "1          283.0  \n",
       "2          283.0  \n",
       "3          283.0  \n",
       "4          304.0  "
      ]
     },
     "execution_count": 66,
     "metadata": {},
     "output_type": "execute_result"
    }
   ],
   "source": [
    "closeness['station']=[i.split(' ',1)[1] for i in closeness['name']]\n",
    "\n",
    "closeness=closeness.merge(station_coord)\n",
    "\n",
    "closeness.head()"
   ]
  },
  {
   "cell_type": "markdown",
   "id": "251bf4df-ce4b-45a0-b6d4-ef9e13bd1ea1",
   "metadata": {
    "tags": []
   },
   "source": [
    "# Demostrate the closeness centrality of stations with heatmap on Gmap"
   ]
  },
  {
   "cell_type": "code",
   "execution_count": 67,
   "id": "9a5a2ff5-b4ed-4f31-96d9-69ab25e5b119",
   "metadata": {},
   "outputs": [],
   "source": [
    "west_oakland=(37.804900,-122.295100)"
   ]
  },
  {
   "cell_type": "code",
   "execution_count": 74,
   "id": "3fb37489-7c97-4bf4-ad89-e06b3ea4c391",
   "metadata": {},
   "outputs": [
    {
     "data": {
      "application/vnd.jupyter.widget-view+json": {
       "model_id": "ca5f6638a7f64b509c7a7d1f7a793a04",
       "version_major": 2,
       "version_minor": 0
      },
      "text/plain": [
       "Figure(layout=FigureLayout(border='1px solid black', height='600px', padding='1px', width='400px'))"
      ]
     },
     "metadata": {},
     "output_type": "display_data"
    }
   ],
   "source": [
    "figure_layout = {\n",
    "    'width': '400px',\n",
    "    'height': '600px',\n",
    "    'border': '1px solid black',\n",
    "    'padding': '1px'\n",
    "}\n",
    "fig = gmaps.figure(center=west_oakland,map_type = 'HYBRID', zoom_level=9,layout=figure_layout,)\n",
    "\n",
    "heatmap_layer = gmaps.heatmap_layer(\n",
    "    closeness[['latitude','longitude']],\n",
    "    weights=closeness['closeness'],\n",
    "    point_radius=10,\n",
    "    gradient = ['gray', 'white','red']\n",
    ")\n",
    "\n",
    "fig.add_layer(heatmap_layer)\n",
    "# fig.add_layer(gmaps.transit_layer())\n",
    "fig"
   ]
  },
  {
   "cell_type": "markdown",
   "id": "72277080-60fb-479f-860c-7b8619101e73",
   "metadata": {},
   "source": [
    "# Run Louvain Algo to group the stations"
   ]
  },
  {
   "cell_type": "code",
   "execution_count": 69,
   "id": "55667dd2-b228-41c8-85de-30fbbd622416",
   "metadata": {},
   "outputs": [],
   "source": [
    "query = \"\"\"\n",
    "\n",
    "CALL gds.louvain.stream('ds_graph',{ relationshipWeightProperty: 'weight'})\n",
    "YIELD nodeId, communityId, intermediateCommunityIds\n",
    "RETURN gds.util.asNode(nodeId).name AS name, communityId as community, intermediateCommunityIds as intermediate_community\n",
    "ORDER BY community, name ASC\n",
    "\n",
    "\"\"\"\n",
    "\n",
    "station_group=my_neo4j_run_query_pandas(query)"
   ]
  },
  {
   "cell_type": "code",
   "execution_count": 70,
   "id": "181a59e2-49ac-45b4-9c20-d497bd948022",
   "metadata": {},
   "outputs": [
    {
     "data": {
      "text/html": [
       "<div>\n",
       "<style scoped>\n",
       "    .dataframe tbody tr th:only-of-type {\n",
       "        vertical-align: middle;\n",
       "    }\n",
       "\n",
       "    .dataframe tbody tr th {\n",
       "        vertical-align: top;\n",
       "    }\n",
       "\n",
       "    .dataframe thead th {\n",
       "        text-align: right;\n",
       "    }\n",
       "</style>\n",
       "<table border=\"1\" class=\"dataframe\">\n",
       "  <thead>\n",
       "    <tr style=\"text-align: right;\">\n",
       "      <th></th>\n",
       "      <th>name</th>\n",
       "      <th>community</th>\n",
       "      <th>intermediate_community</th>\n",
       "    </tr>\n",
       "  </thead>\n",
       "  <tbody>\n",
       "    <tr>\n",
       "      <th>0</th>\n",
       "      <td>orange 19th Street</td>\n",
       "      <td>16</td>\n",
       "      <td>None</td>\n",
       "    </tr>\n",
       "    <tr>\n",
       "      <th>1</th>\n",
       "      <td>orange Ashby</td>\n",
       "      <td>16</td>\n",
       "      <td>None</td>\n",
       "    </tr>\n",
       "    <tr>\n",
       "      <th>2</th>\n",
       "      <td>orange Downtown Berkeley</td>\n",
       "      <td>16</td>\n",
       "      <td>None</td>\n",
       "    </tr>\n",
       "    <tr>\n",
       "      <th>3</th>\n",
       "      <td>orange MacArthur</td>\n",
       "      <td>16</td>\n",
       "      <td>None</td>\n",
       "    </tr>\n",
       "    <tr>\n",
       "      <th>4</th>\n",
       "      <td>red 19th Street</td>\n",
       "      <td>16</td>\n",
       "      <td>None</td>\n",
       "    </tr>\n",
       "    <tr>\n",
       "      <th>...</th>\n",
       "      <td>...</td>\n",
       "      <td>...</td>\n",
       "      <td>...</td>\n",
       "    </tr>\n",
       "    <tr>\n",
       "      <th>109</th>\n",
       "      <td>red Embarcadero</td>\n",
       "      <td>112</td>\n",
       "      <td>None</td>\n",
       "    </tr>\n",
       "    <tr>\n",
       "      <th>110</th>\n",
       "      <td>red West Oakland</td>\n",
       "      <td>112</td>\n",
       "      <td>None</td>\n",
       "    </tr>\n",
       "    <tr>\n",
       "      <th>111</th>\n",
       "      <td>yellow 12th Street</td>\n",
       "      <td>112</td>\n",
       "      <td>None</td>\n",
       "    </tr>\n",
       "    <tr>\n",
       "      <th>112</th>\n",
       "      <td>yellow Embarcadero</td>\n",
       "      <td>112</td>\n",
       "      <td>None</td>\n",
       "    </tr>\n",
       "    <tr>\n",
       "      <th>113</th>\n",
       "      <td>yellow West Oakland</td>\n",
       "      <td>112</td>\n",
       "      <td>None</td>\n",
       "    </tr>\n",
       "  </tbody>\n",
       "</table>\n",
       "<p>114 rows × 3 columns</p>\n",
       "</div>"
      ],
      "text/plain": [
       "                         name  community intermediate_community\n",
       "0          orange 19th Street         16                   None\n",
       "1                orange Ashby         16                   None\n",
       "2    orange Downtown Berkeley         16                   None\n",
       "3            orange MacArthur         16                   None\n",
       "4             red 19th Street         16                   None\n",
       "..                        ...        ...                    ...\n",
       "109           red Embarcadero        112                   None\n",
       "110          red West Oakland        112                   None\n",
       "111        yellow 12th Street        112                   None\n",
       "112        yellow Embarcadero        112                   None\n",
       "113       yellow West Oakland        112                   None\n",
       "\n",
       "[114 rows x 3 columns]"
      ]
     },
     "execution_count": 70,
     "metadata": {},
     "output_type": "execute_result"
    }
   ],
   "source": [
    "station_group"
   ]
  },
  {
   "cell_type": "markdown",
   "id": "6478bc25-ea8e-4eee-908f-4b8d00520701",
   "metadata": {},
   "source": [
    "# Demostrate groups with different color on Gmap"
   ]
  },
  {
   "cell_type": "code",
   "execution_count": 71,
   "id": "5afa4bba-c72e-458d-a8b0-c78216815cf4",
   "metadata": {},
   "outputs": [],
   "source": [
    "station_group=station_group.merge(closeness)\n",
    "\n",
    "station_group['color']=np.nan\n",
    "\n",
    "station_group['community'].value_counts().shape\n",
    "\n",
    "for i,j in zip(set(station_group['community']),['#636EFA', '#EF553B', '#00CC96', '#AB63FA', '#FFA15A', '#19D3F3', '#FF6692', '#B6E880', '#FF97FF', '#FECB52', 'teal','silver']):\n",
    "    station_group.loc[station_group['community']==i,'color']=j"
   ]
  },
  {
   "cell_type": "code",
   "execution_count": 73,
   "id": "cd5c020f-023e-4b2b-af3a-707ed37f725e",
   "metadata": {},
   "outputs": [
    {
     "data": {
      "application/vnd.jupyter.widget-view+json": {
       "model_id": "3888a3afa36349cab31dff1e595162f1",
       "version_major": 2,
       "version_minor": 0
      },
      "text/plain": [
       "Figure(layout=FigureLayout(border='1px solid black', height='600px', padding='1px', width='400px'))"
      ]
     },
     "metadata": {},
     "output_type": "display_data"
    }
   ],
   "source": [
    "fig = gmaps.figure(center=west_oakland,zoom_level=9,layout=figure_layout)\n",
    "\n",
    "group_symbols = gmaps.symbol_layer(\n",
    "    station_group[['latitude','longitude']], \n",
    "    fill_color=station_group['color'].to_list(), \n",
    "    stroke_color=station_group['color'].to_list(), \n",
    "    scale=6,\n",
    ")\n",
    "\n",
    "fig.add_layer(group_symbols)\n",
    "fig"
   ]
  }
 ],
 "metadata": {
  "kernelspec": {
   "display_name": "Python 3 (ipykernel)",
   "language": "python",
   "name": "python3"
  },
  "language_info": {
   "codemirror_mode": {
    "name": "ipython",
    "version": 3
   },
   "file_extension": ".py",
   "mimetype": "text/x-python",
   "name": "python",
   "nbconvert_exporter": "python",
   "pygments_lexer": "ipython3",
   "version": "3.9.7"
  }
 },
 "nbformat": 4,
 "nbformat_minor": 5
}
