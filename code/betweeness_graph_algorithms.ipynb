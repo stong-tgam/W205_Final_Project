{
 "cells": [
  {
   "cell_type": "markdown",
   "id": "8441b901",
   "metadata": {},
   "source": [
    "# Project 3 - Graph Algorithm Implementation\n",
    "\n",
    "University of California, Berkeley\n",
    "\n",
    "Master of Information and Data Science (MIDS) program\n",
    "\n",
    "w205 - Fundamentals of Data Engineering\n",
    "\n",
    "\n",
    "# Implementation of Betweeness Centrality Graph Algorithm\n",
    "\n",
    "Betweeness Centrality compute all pairs shortest path (weighted). For each node, compute how many paths pass through the node. The pivotal node lies on every path between two other nodes. In this implemenation, we would place a backup delivery struck at the stations with the highest betweeness scores so that there a fail safe system in case that station is down for the day. "
   ]
  },
  {
   "cell_type": "code",
   "execution_count": 102,
   "id": "399a8c50",
   "metadata": {},
   "outputs": [],
   "source": [
    "import neo4j\n",
    "\n",
    "import csv\n",
    "\n",
    "import math\n",
    "import numpy as np\n",
    "import pandas as pd\n",
    "\n",
    "import psycopg2"
   ]
  },
  {
   "cell_type": "code",
   "execution_count": 103,
   "id": "e630658c",
   "metadata": {},
   "outputs": [],
   "source": [
    "driver = neo4j.GraphDatabase.driver(uri=\"neo4j://neo4j:7687\", auth=(\"neo4j\",\"w205\"))"
   ]
  },
  {
   "cell_type": "code",
   "execution_count": 104,
   "id": "c4365de6",
   "metadata": {},
   "outputs": [],
   "source": [
    "session = driver.session(database=\"neo4j\")"
   ]
  },
  {
   "cell_type": "code",
   "execution_count": 105,
   "id": "06ee922e",
   "metadata": {},
   "outputs": [],
   "source": [
    "def my_neo4j_run_query_pandas(query, **kwargs):\n",
    "    \"run a query and return the results in a pandas dataframe\"\n",
    "    \n",
    "    result = session.run(query, **kwargs)\n",
    "    \n",
    "    df = pd.DataFrame([r.values() for r in result], columns=result.keys())\n",
    "    \n",
    "    return df"
   ]
  },
  {
   "cell_type": "code",
   "execution_count": 106,
   "id": "9e85bd63",
   "metadata": {},
   "outputs": [
    {
     "data": {
      "text/plain": [
       "<neo4j.work.result.Result at 0x7f45d5169220>"
      ]
     },
     "execution_count": 106,
     "metadata": {},
     "output_type": "execute_result"
    }
   ],
   "source": [
    "# since the BART systems looked connected,\n",
    "# we will be using gds page rank algorithm to rank all of the given station and output it in a tabular format\n",
    "query = \"CALL gds.graph.drop('ds_graph', false)\"\n",
    "session.run(query)\n",
    "\n",
    "query = \"CALL gds.graph.project('ds_graph', 'Station', 'LINK', {relationshipProperties: 'weight'})\"\n",
    "session.run(query)"
   ]
  },
  {
   "cell_type": "code",
   "execution_count": 112,
   "id": "3fd7e6da",
   "metadata": {},
   "outputs": [
    {
     "data": {
      "text/html": [
       "<div>\n",
       "<style scoped>\n",
       "    .dataframe tbody tr th:only-of-type {\n",
       "        vertical-align: middle;\n",
       "    }\n",
       "\n",
       "    .dataframe tbody tr th {\n",
       "        vertical-align: top;\n",
       "    }\n",
       "\n",
       "    .dataframe thead th {\n",
       "        text-align: right;\n",
       "    }\n",
       "</style>\n",
       "<table border=\"1\" class=\"dataframe\">\n",
       "  <thead>\n",
       "    <tr style=\"text-align: right;\">\n",
       "      <th></th>\n",
       "      <th>name</th>\n",
       "      <th>betweenness</th>\n",
       "    </tr>\n",
       "  </thead>\n",
       "  <tbody>\n",
       "    <tr>\n",
       "      <th>39</th>\n",
       "      <td>Rockridge</td>\n",
       "      <td>5509.000000</td>\n",
       "    </tr>\n",
       "    <tr>\n",
       "      <th>33</th>\n",
       "      <td>Orinda</td>\n",
       "      <td>4997.000000</td>\n",
       "    </tr>\n",
       "    <tr>\n",
       "      <th>24</th>\n",
       "      <td>Lafayette</td>\n",
       "      <td>4469.000000</td>\n",
       "    </tr>\n",
       "    <tr>\n",
       "      <th>0</th>\n",
       "      <td>12th Street</td>\n",
       "      <td>4176.426217</td>\n",
       "    </tr>\n",
       "    <tr>\n",
       "      <th>26</th>\n",
       "      <td>MacArthur</td>\n",
       "      <td>4138.430736</td>\n",
       "    </tr>\n",
       "    <tr>\n",
       "      <th>25</th>\n",
       "      <td>Lake Merritt</td>\n",
       "      <td>3988.568790</td>\n",
       "    </tr>\n",
       "    <tr>\n",
       "      <th>46</th>\n",
       "      <td>Walnut Creek</td>\n",
       "      <td>3925.000000</td>\n",
       "    </tr>\n",
       "    <tr>\n",
       "      <th>2</th>\n",
       "      <td>19th Street</td>\n",
       "      <td>3888.013767</td>\n",
       "    </tr>\n",
       "    <tr>\n",
       "      <th>21</th>\n",
       "      <td>Fruitvale</td>\n",
       "      <td>3697.419834</td>\n",
       "    </tr>\n",
       "    <tr>\n",
       "      <th>49</th>\n",
       "      <td>West Oakland</td>\n",
       "      <td>3476.772638</td>\n",
       "    </tr>\n",
       "  </tbody>\n",
       "</table>\n",
       "</div>"
      ],
      "text/plain": [
       "            name  betweenness\n",
       "39     Rockridge  5509.000000\n",
       "33        Orinda  4997.000000\n",
       "24     Lafayette  4469.000000\n",
       "0    12th Street  4176.426217\n",
       "26     MacArthur  4138.430736\n",
       "25  Lake Merritt  3988.568790\n",
       "46  Walnut Creek  3925.000000\n",
       "2    19th Street  3888.013767\n",
       "21     Fruitvale  3697.419834\n",
       "49  West Oakland  3476.772638"
      ]
     },
     "execution_count": 112,
     "metadata": {},
     "output_type": "execute_result"
    }
   ],
   "source": [
    "query = \"\"\"\n",
    "\n",
    "CALL gds.betweenness.stream('ds_graph')\n",
    "YIELD nodeId, score\n",
    "RETURN gds.util.asNode(nodeId).name AS name, score as betweenness\n",
    "ORDER BY betweenness DESC\n",
    "\n",
    "\"\"\"\n",
    "\n",
    "df = my_neo4j_run_query_pandas(query)\n",
    "df = df[df['betweenness'] > 0]\n",
    "df['name'] = [\" \".join(n[1:]) for n in df['name'].str.split(\" \")] # remove the line\n",
    "df = df.groupby('name').mean().reset_index().sort_values('betweenness', ascending=False)\n",
    "df.head(10)"
   ]
  },
  {
   "cell_type": "code",
   "execution_count": null,
   "id": "7daefe75",
   "metadata": {},
   "outputs": [],
   "source": [
    "\n"
   ]
  },
  {
   "cell_type": "code",
   "execution_count": null,
   "id": "0cba136d",
   "metadata": {},
   "outputs": [],
   "source": []
  },
  {
   "cell_type": "code",
   "execution_count": null,
   "id": "96fc5775",
   "metadata": {},
   "outputs": [],
   "source": []
  },
  {
   "cell_type": "code",
   "execution_count": null,
   "id": "34018a37",
   "metadata": {},
   "outputs": [],
   "source": []
  }
 ],
 "metadata": {
  "kernelspec": {
   "display_name": "Python 3 (ipykernel)",
   "language": "python",
   "name": "python3"
  },
  "language_info": {
   "codemirror_mode": {
    "name": "ipython",
    "version": 3
   },
   "file_extension": ".py",
   "mimetype": "text/x-python",
   "name": "python",
   "nbconvert_exporter": "python",
   "pygments_lexer": "ipython3",
   "version": "3.9.7"
  }
 },
 "nbformat": 4,
 "nbformat_minor": 5
}
